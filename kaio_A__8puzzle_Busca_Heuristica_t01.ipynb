{
  "nbformat": 4,
  "nbformat_minor": 0,
  "metadata": {
    "colab": {
      "name": "kaio_A*_8puzzle_Busca_Heuristica_t01.ipynb",
      "provenance": [],
      "collapsed_sections": [],
      "include_colab_link": true
    },
    "kernelspec": {
      "name": "python3",
      "display_name": "Python 3"
    },
    "language_info": {
      "name": "python"
    }
  },
  "cells": [
    {
      "cell_type": "markdown",
      "metadata": {
        "id": "view-in-github",
        "colab_type": "text"
      },
      "source": [
        "<a href=\"https://colab.research.google.com/github/kaiomudkt/Busca_heuristica_8puzzle/blob/main/kaio_A__8puzzle_Busca_Heuristica_t01.ipynb\" target=\"_parent\"><img src=\"https://colab.research.google.com/assets/colab-badge.svg\" alt=\"Open In Colab\"/></a>"
      ]
    },
    {
      "cell_type": "code",
      "metadata": {
        "id": "rVefWNpE5Kdu"
      },
      "source": [
        "import copy"
      ],
      "execution_count": 1,
      "outputs": []
    },
    {
      "cell_type": "code",
      "metadata": {
        "id": "yQv3wZO24qbT"
      },
      "source": [
        "def valid(x,y):\n",
        "    r = True\n",
        "    if x < 0 : r = False\n",
        "    if x > 2 : r = False\n",
        "    if y < 0 : r = False\n",
        "    if y > 2 : r = False\n",
        "    return r\n",
        "\n",
        "s = [[4,1,3],[2,5,6],[0,7,8]]\n",
        "\n",
        "# 4 1 3\n",
        "# 2 5 6\n",
        "# 0 7 8\n",
        "\n",
        "def sons(s):\n",
        "    r = []\n",
        "    x = None\n",
        "    y = None\n",
        "    #localiza zero\n",
        "    for i in range(len(s)):\n",
        "        for j in range(len(s[i])):\n",
        "            if s[i][j] == 0:\n",
        "                x = i\n",
        "                y = j\n",
        "    # cima\n",
        "    vx = x - 1\n",
        "    vy = y\n",
        "    if (valid(vx,vy)):\n",
        "        ts = copy.deepcopy(s)\n",
        "        t = ts[vx][vy]\n",
        "        ts[vx][vy] = ts[x][y]\n",
        "        ts[x][y] = t\n",
        "        r.append(ts)\n",
        "    # baixo\n",
        "    vx = x + 1\n",
        "    vy = y\n",
        "    if (valid(vx,vy)):\n",
        "        ts = copy.deepcopy(s)\n",
        "        t = ts[vx][vy]\n",
        "        ts[vx][vy] = ts[x][y]\n",
        "        ts[x][y] = t\n",
        "        r.append(ts)\n",
        "    # direita\n",
        "    vx = x \n",
        "    vy = y +1\n",
        "    if (valid(vx,vy)):\n",
        "        ts = copy.deepcopy(s)\n",
        "        t = ts[vx][vy]\n",
        "        ts[vx][vy] = ts[x][y]\n",
        "        ts[x][y] = t\n",
        "        r.append(ts)\n",
        "    # esquerda\n",
        "    vx = x \n",
        "    vy = y - 1\n",
        "    if (valid(vx,vy)):\n",
        "        ts = copy.deepcopy(s)\n",
        "        t = ts[vx][vy]\n",
        "        ts[vx][vy] = ts[x][y]\n",
        "        ts[x][y] = t\n",
        "        r.append(ts)\n",
        "    return r"
      ],
      "execution_count": 2,
      "outputs": []
    },
    {
      "cell_type": "code",
      "metadata": {
        "id": "60pt9SRV4-oZ"
      },
      "source": [
        "def printPuzzle(s):\n",
        "    for v in s:\n",
        "        print(v)\n",
        "\n",
        "def son2str(s):\n",
        "    s1 = s[0]+s[1]+s[2]\n",
        "    return ''.join([str(v) for v in s1])"
      ],
      "execution_count": 3,
      "outputs": []
    },
    {
      "cell_type": "code",
      "metadata": {
        "id": "t3i_BYCj5Ds8"
      },
      "source": [
        "def bfs(start,goal):\n",
        "    l = [start]\n",
        "    fathers = dict()\n",
        "    visited = [start] # usado para nao voltar para a instancia anterior (ou que ja passamos, para nao ficar em loop)\n",
        "    while (len(l)>0):\n",
        "        # vamos testar todos os filhos do primeiro nó de 'l'\n",
        "        father = l[0]\n",
        "        # 'l' vai ter todos os nos que nao forem o nó objetivo\n",
        "        # e depois removemos cada nó na ordem de fila 'FIFO', \n",
        "        # pois ja vamos trabahar com esse nó l[0] nesta rodada do 'while', entao ja podemos remover ele da fila a serem buscada\n",
        "        del l[0]\n",
        "        for son in sons(father): # gera todos os movimentos possiveis para atual posicao do Zero\n",
        "            if son not in visited: # esse filho ja foi visitado? se sim, descarta, se não entra em loop\n",
        "                visited.append(son) # insere na lista de ja visitados\n",
        "                # metodo 'son2str(son)' gera uma string com a sequencia, por exempo:\n",
        "                # fathers é um dicionario, e a string gerada no 'son2str' é  a key\n",
        "                # e father é o conteudo guardado no dict na key passada\n",
        "                # cada nó filho sabe quem é seu pai\n",
        "                fathers[son2str(son)] = father\n",
        "                if son == goal:# nó filho é seu objetivo final\n",
        "                    res = []\n",
        "                    node = son\n",
        "                    while node != start: # enquanto o nó atual for diferente do nó inicial\n",
        "                        #ou seja, do nó solução até o nó 'start', podemos rastrear olhando pro pai, do pai, do pai, ate chegar no 'start'\n",
        "                        res.append(node) # add ao 'res' o node atual\n",
        "                        node = fathers[son2str(node)]# pega no dicionario, o pai desse nó atual\n",
        "                    res.append(start)# add o nó 'res'\n",
        "                    res.reverse()\n",
        "                    return res\n",
        "                else:\n",
        "                    l.append(son)# add todos os nós 'son' que não forem o nó objetivo final\n",
        "                    #depois que este 'for' interno add todos os filhos no 'l', e nao ter encontrado o nó objetivo,\n",
        "                    # o while vai remover cada primeira posição do 'l'\n",
        "    print(\"Sem Solucao\")"
      ],
      "execution_count": 4,
      "outputs": []
    },
    {
      "cell_type": "code",
      "metadata": {
        "id": "TN6xHvfl5O6i"
      },
      "source": [
        "\n",
        "# s = [[1,2,3],[4,5,6],[0,7,8]] # custo 1\n",
        "# s = [[4,1,3],[2,5,6],[0,7,8]] #inicial\n",
        "# s = [[1,2,0],[4,6,3],[7,5,8]] #5  00:00\n",
        "# s = [[4,0,2],[6,1,3],[7,5,8]] #10 00:00\n",
        "# s = [[6,4,2],[7,0,3],[5,1,8]] #15 00:01\n",
        "# s = [[6,4,0],[7,8,2],[5,3,1]] #21 02:29 pq é tao rapido?\n",
        "# s = [[6,4,2],[7,8,0],[5,3,1]] #20 17:18\n",
        "# s = [[4,7,2],[5,6,8],[0,3,1]] #25 18:58\n",
        "# 4 1 3       1 2 3\n",
        "# 2 5 6   ->  4 5 6\n",
        "# 0 7 8       7 8 0\n",
        "# resp = bfs(s,[[1,2,3],[4,5,6],[7,8,0]])\n",
        "# for s in resp:\n",
        "#     printPuzzle(s)\n",
        "#     print()"
      ],
      "execution_count": 5,
      "outputs": []
    },
    {
      "cell_type": "code",
      "metadata": {
        "id": "wFknBirpADZP"
      },
      "source": [
        "# eixo x são os número de movimentos para encontrar a solução \n",
        "# eixo y representa o número de nós visitados\n",
        "# s5 = [[1,2,0],[4,6,3],[7,5,8]] #5  00:00\n",
        "# s10 = [[4,0,2],[6,1,3],[7,5,8]] #10 00:00\n",
        "# s15 = [[6,4,2],[7,0,3],[5,1,8]] #15 00:01\n",
        "# s20 = [[6,4,2],[7,8,0],[5,3,1]] #20 17:18\n",
        "# s25 = [[4,7,2],[5,6,8],[0,3,1]] #25 18:58\n",
        "# goal  = [[1,2,3],[4,5,6],[7,8,0]]\n",
        "# iniciais = [s5, s10, s15, s20, s25]\n",
        "# movimentos = []\n",
        "# visitados = []\n",
        "# for inicio in iniciais:\n",
        "#   (_, qtd_mov, qtd_visit) = bfs(inicio,goal)\n",
        "#   movimentos.append(qtd_mov)\n",
        "#   visitados.append(qtd_visit)\n",
        "# matplotlib.pyplot.plot(movimentos, visitados)\n",
        "# matplotlib.pyplot.show()"
      ],
      "execution_count": 6,
      "outputs": []
    },
    {
      "cell_type": "code",
      "metadata": {
        "id": "N5aNrnzs75me"
      },
      "source": [
        "def h1(current,goal):\n",
        "    qtd_erros = 0\n",
        "    for i in range(len(current)):\n",
        "        for j in range(len(current[i])):\n",
        "            if current[i][j] != goal[i][j] : qtd_erros += 1\n",
        "    return qtd_erros"
      ],
      "execution_count": 7,
      "outputs": []
    },
    {
      "cell_type": "markdown",
      "metadata": {
        "id": "fvQPfRy0Pnnn"
      },
      "source": [
        ""
      ]
    },
    {
      "cell_type": "code",
      "metadata": {
        "id": "kDc9wbOT5URJ"
      },
      "source": [
        "# s5 =    [[1,2,0],[4,6,3],[7,5,8]] \n",
        "# goal  = [[1,2,3],[4,5,6],[7,8,0]] # objetivo\n",
        "def h2(a,b): # distancia de manhatan\n",
        "    dist = 0\n",
        "    tam = len(a)*len(a[0]) #3x3=9\n",
        "    v = [[] for i in range(tam)]# [[], [], [], [], [], [], [], [], []] \n",
        "    for i in range(len(a)):\n",
        "        for j in range(len(a[i])):\n",
        "          # parece que pega o valor que esta na posicao a[i][j] e b[i][j], \n",
        "          # e usa esse valor como indice do v[],\n",
        "          # e nesta posicao de 'v[]', é inserido o valor de atual de 'i' e 'j'\n",
        "          # a[0][0] = 4\n",
        "          # v[4] = (0,0)\n",
        "            v[ a[i][j] ].append((i,j))\n",
        "            v[ b[i][j] ].append((i,j))\n",
        "  # v = [ \n",
        "    # [(2, 0), (2, 2)],\n",
        "    # [(0, 0), (0, 1)],\n",
        "    # [(0, 1), (1, 0)],\n",
        "\n",
        "    # [(0, 2), (0, 2)],\n",
        "    # [(0, 0), (1, 0)],\n",
        "    # [(1, 1), (1, 1)],\n",
        "\n",
        "    # [(1, 2), (1, 2)],\n",
        "    # [(2, 0), (2, 1)],\n",
        "    # [(2, 1), (2, 2)] \n",
        "  # ]\n",
        "  # qual seu ponto de origem\n",
        "  # qual seu ponto de destino\n",
        "  # calculo retorna o custo para o ponto de origem par ao destino\n",
        "    for i in range(tam):# percorre de 0 a 8\n",
        "        dist += abs( v[i][0][0]-v[i][1][0] ) + abs(v[i][0][1]-v[i][1][1])\n",
        "        # se i for igual a zero\n",
        "        # v[0][0][0]-v[0][1][0]) + v[0][0][1]-v[0][1][1]\n",
        "        # (2-2) + (0-2) = -2\n",
        "        # abs(2-2) + abs(0-2) = 2\n",
        "    return dist"
      ],
      "execution_count": 8,
      "outputs": []
    },
    {
      "cell_type": "code",
      "metadata": {
        "id": "DXyjNXgILKXd"
      },
      "source": [
        "# h1 qtd de posicoes erradas\n",
        "# h2 custo para ordenar (distancia de manhatan)\n",
        "# def estrela(current, goal):\n",
        "#   return cont_caminhos(current, goal, fathers) + h2(current, goal)\n",
        "  # return h1(current, goal) + h2(current, goal)"
      ],
      "execution_count": 9,
      "outputs": []
    },
    {
      "cell_type": "code",
      "metadata": {
        "id": "dy50r2Fh52Ej"
      },
      "source": [
        "# start = [[4,1,3],[2,5,6],[0,7,8]]\n",
        "# goal  = [[1,2,3],[4,5,6],[7,8,0]]\n",
        "# 4 1 3       1 2 3\n",
        "# 2 5 6   ->  4 5 6\n",
        "# 0 7 8       7 8 0\n",
        "# 1 +2 +0+1+0 +0+1+1+2 = 8\n",
        "# print(h1(start, goal))\n",
        "# print(h2(start,goal))\n",
        "# print(estrela(start, goal))"
      ],
      "execution_count": 10,
      "outputs": []
    },
    {
      "cell_type": "code",
      "metadata": {
        "id": "4UqWUDYn3Fq1"
      },
      "source": [
        "from heapq import heappush, heappop"
      ],
      "execution_count": 11,
      "outputs": []
    },
    {
      "cell_type": "code",
      "metadata": {
        "id": "C_0jGj55YDh7"
      },
      "source": [
        "# hill clibim == HC\n",
        "def busca_heuristica_hc(start,goal,heuristica):\n",
        "    h = []\n",
        "    heappush(h,(7,start)) # insere na lista H, valor encontrado na heuristica como KEY, e start como VALUE\n",
        "    fathers = dict() # neste arvore, a raiz nao sabe quem são seus filhos, mas cada filho sabe quem é seu pai\n",
        "    visited = [start]\n",
        "    while (len(h)>0):\n",
        "        (_,father) = heappop(h) # heapPOP remove a menor chave de  (h)\n",
        "        for son in sons(father): # todas as possibilidades a partir da posição atual do zero (gera filhos)\n",
        "            if son not in visited: # verifica se esta possibilidade ainda nao foi verificada, para nao ficar em loop infinito\n",
        "                visited.append(son) # insere esse 'son' a lista de ja visitados\n",
        "                # 'son2str' gera uma string, com q sequencia da matriz 'son'\n",
        "                # assim, o dicionario 'fathers' consegue mapear quem \n",
        "                fathers[son2str(son)] = father # o nó filho aponta para quem é o pai\n",
        "                if son == goal: # son é o objetivo final ? se true, retorna movimentos\n",
        "                    res = []\n",
        "                    node = son\n",
        "                    while node != start:\n",
        "                        res.append(node)\n",
        "                        node = fathers[son2str(node)]\n",
        "                    res.append(start)\n",
        "                    res.reverse()\n",
        "                    return (res, len(visited))\n",
        "                else:# se false, insere na fila H, sua chave com seu nó atual\n",
        "                    heappush(h, (heuristica(son,goal), son)) #insere no array 'h' o (custo, [matriz])\n",
        "    print(\"Sem Solucao\")"
      ],
      "execution_count": 12,
      "outputs": []
    },
    {
      "cell_type": "code",
      "metadata": {
        "id": "Cqj-Vcub6SRI"
      },
      "source": [
        "def busca_heuristica_estrela(start,goal,heuristica):\n",
        "    h = []\n",
        "    heappush(h,(heuristica(start,goal),start)) # inicia lista H com START, paa poder entrar no while e gerar seus filhos\n",
        "    fathers = dict()\n",
        "    fathers[son2str(start)] = (None, 0)# insere raiz da arvore, sem pai, e com altura 0\n",
        "    visited = [start] # start ja foi inserido na lista h\n",
        "    while (len(h)>0):\n",
        "      # heapPOP remove a menor chave da lista (h)\n",
        "        (_,father) = heappop(h) # pop remove menor chave de 'h' (lembra que chave é f_n de A*)\n",
        "        for son in sons(father): # todas as possibilidades a partir da posição atual do zero / 2 ou 3 ou 4 filhos\n",
        "        #lembre que 1 dos filhos gerados, vai ser a voltar para o posicao original de seu pai, e ele nao pode continuar\n",
        "            if son not in visited: # verifica se esta possibilidade ainda nao foi verificada, para nao ficar em loop infinito\n",
        "                visited.append(son) # insere esse 'son' a lista de ja visitados\n",
        "                # 'son2str' gera uma string, com q sequencia da matriz 'son'\n",
        "                altura_pai = fathers[son2str(father)][1] # [1] é o 2º item da tupla, que é a altura do nó pai\n",
        "                altura = altura_pai + 1 # altura do nó pai + 1 == altura do nó atual\n",
        "                fathers[son2str(son)] = (father, altura) # assim, o dicionario 'fathers' consegue mapear, onde o filho, sabe quem é sue pai\n",
        "                if son == goal: # son é o objetivo final\n",
        "                    res = []\n",
        "                    node = son\n",
        "                    while node != start:\n",
        "                        res.append(node)\n",
        "                        node = fathers[son2str(node)][0] #[0], é o 1º item da tupla, que é o nó pai\n",
        "                    res.append(start)\n",
        "                    res.reverse()\n",
        "                    return (res, len(visited))\n",
        "                else:\n",
        "                    # g_n == conta a qtd caminhos do no atual ate a raiz (profundidade deste nó atual\n",
        "                    g_n = fathers[son2str(son)][1] # g(n) = custo do caminho do nó inicial até o nó n\n",
        "                    h_n = heuristica(son,goal)# h(n) = custo do caminho estimado do nó n até o nó final.\n",
        "                    # f(n) = g(n) + h(n)  custo do caminho tot\n",
        "                    f_n = g_n + h_n # A* estrela\n",
        "                    heappush(h, (f_n,son)) #insere no array de 'h' o (KEY, [matriz atual])\n",
        "    print(\"Sem Solucao\")"
      ],
      "execution_count": 13,
      "outputs": []
    },
    {
      "cell_type": "code",
      "metadata": {
        "id": "gFya7Ha18Q1X"
      },
      "source": [
        "# start = [[2,7,3],[1,0,6],[4,8,5]]\n",
        "# goal  = [[1,2,3],[4,5,6],[7,8,0]]\n",
        "# (resp, _, _) = busca_heuristica(start,goal,estrela)\n",
        "# for s in resp:\n",
        "#     printPuzzle(s)\n",
        "#     print()"
      ],
      "execution_count": 14,
      "outputs": []
    },
    {
      "cell_type": "code",
      "metadata": {
        "id": "0GGfjqBr8cjv"
      },
      "source": [
        "import matplotlib.pyplot as plt"
      ],
      "execution_count": 15,
      "outputs": []
    },
    {
      "cell_type": "code",
      "metadata": {
        "id": "81cD8hoBH6Dj"
      },
      "source": [
        "def cont_caminhos(current_sheet, raiz, fathers):\n",
        "  node = current_sheet\n",
        "  count = 0\n",
        "  while node != raiz:\n",
        "    node = fathers[son2str(node)]\n",
        "    count += 1\n",
        "  return count"
      ],
      "execution_count": 16,
      "outputs": []
    },
    {
      "cell_type": "code",
      "metadata": {
        "colab": {
          "base_uri": "https://localhost:8080/",
          "height": 295
        },
        "id": "EX1tkk2lUnTW",
        "outputId": "7ff401bf-e1c6-494f-da14-6659b6d7235a"
      },
      "source": [
        "# qtd aleatória de vezes que movi o zero, a partir do estado objetivo \"GOAL\"\n",
        "# pois, a melhor maneira de garantir que uma entrada tem solução\n",
        "# é simplemente, pegar a solução pronta, e simplemente movimentar o zero, qtd que quiser\n",
        "s5 =  [[1,2,0],[4,6,3],[7,5,8]] # 5 movimentos meus aleatórios, a partir do GOAL \n",
        "s10 = [[4,0,2],[6,1,3],[7,5,8]] #10\n",
        "s15 = [[6,4,2],[7,0,3],[5,1,8]] #15\n",
        "s20 = [[6,4,2],[7,8,0],[5,3,1]] #20\n",
        "s25 = [[1,2,6],[5,0,7],[4,3,8]] #25 movimentos meus aleatórios, a partir do GOAL\n",
        "\n",
        "# s5 = [[2,0,3],[1,5,6],[4,7,8]] #= 05 mov\n",
        "# s10 = [[2,6,5],[1,0,3],[4,7,8]] #= 10 mov\n",
        "# s15 = [[6,0,5],[2,7,3],[1,4,8]] #= 15 mov\n",
        "# s20 = [[6,5,3],[2,7,8],[0,1,4]] #= 20 mov\n",
        "# s25 = [[7,6,3],[0,5,8],[2,1,4]] #= 25 mov\n",
        "\n",
        "goal  = [[1,2,3],[4,5,6],[7,8,0]] # objetivo\n",
        "iniciais = [s5, s10, s15, s20, s25]\n",
        "\n",
        "# HC == hill clibim\n",
        "visitados_h1_hc = []\n",
        "visitados_h2_hc = []\n",
        "\n",
        "#  estrela == A*\n",
        "visitados_h1_estrela = []\n",
        "visitados_h2_estrela = []\n",
        "\n",
        "for inicio in iniciais:\n",
        "  (_, qtd_visit_h1_hc) = busca_heuristica_hc(inicio,goal,h1)\n",
        "  (_, qtd_visit_h2_hc) = busca_heuristica_hc(inicio,goal,h2)\n",
        "  (_, qtd_visit_h1_estrela) = busca_heuristica_estrela(inicio,goal,h1)\n",
        "  (_, qtd_visit_h2_estrela) = busca_heuristica_estrela(inicio,goal,h2)\n",
        "  # hill clibim h1\n",
        "  visitados_h1_hc.append(qtd_visit_h1_hc)\n",
        "  # hill clibim h2\n",
        "  visitados_h2_hc.append(qtd_visit_h2_hc)\n",
        "  # A* h1\n",
        "  visitados_h1_estrela.append(qtd_visit_h1_estrela)\n",
        "  # A* h2\n",
        "  visitados_h2_estrela.append(qtd_visit_h2_estrela)\n",
        "\n",
        "x = [5,10,15,20,25]# qtd de movimentos a partir do \"START/GOAL\"\n",
        "\n",
        "\n",
        "# eixo y representa o número de nós visitados\n",
        "plt.title('Comparação entre h1 vs h2 em algoritmos Hill Cliblim e A*')\n",
        "plt.xlabel('entradas com a QTD movimentos a partir do GOAL')\n",
        "plt.ylabel('QTD nós visitados para encontrar a solução')\n",
        "# 'k' siginifica linha\n",
        "\n",
        "# A* h1\n",
        "plt.plot(x, visitados_h1_estrela, 'k--', color='blue',label='h1')\n",
        "plt.plot(x, visitados_h1_estrela, 'v', color='blue',label='h1')\n",
        "# A* h2\n",
        "plt.plot(x, visitados_h2_estrela, 'k:', color='red', label='h2')\n",
        "plt.plot(x, visitados_h2_estrela, '^', color='red', label='h2')\n",
        "# HC h1\n",
        "plt.plot(x, visitados_h1_hc, 'k--', color='green',label='h1')\n",
        "plt.plot(x, visitados_h1_hc, 'r^', color='green',label='h1')\n",
        "# HC h2\n",
        "plt.plot(x, visitados_h2_hc, 'k:', color='orange', label='h2')\n",
        "plt.plot(x, visitados_h2_hc, 'b^', color='orange', label='h2')\n",
        "\n",
        "plt.grid()\n",
        "plt.show()"
      ],
      "execution_count": 17,
      "outputs": [
        {
          "output_type": "display_data",
          "data": {
            "image/png": "[encoded data removed]",
            "text/plain": [
              "<Figure size 432x288 with 1 Axes>"
            ]
          },
          "metadata": {
            "tags": [],
            "needs_background": "light"
          }
        }
      ]
    }
  ]
}